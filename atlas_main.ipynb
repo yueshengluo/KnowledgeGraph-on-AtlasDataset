{
 "cells": [
  {
   "cell_type": "code",
   "execution_count": 1,
   "metadata": {},
   "outputs": [],
   "source": [
    "import os\n",
    "import re\n",
    "import pandas as pd\n",
    "import networkx as nx\n",
    "import matplotlib.pyplot as plt\n",
    "import numpy as np\n",
    "import collections"
   ]
  },
  {
   "cell_type": "code",
   "execution_count": 69,
   "metadata": {
    "code_folding": []
   },
   "outputs": [],
   "source": [
    "#import dataset from stata files\n",
    "def read_stata_to_dataframe(filename):\n",
    "    #print(filename)\n",
    "    f1 = pd.read_stata(filename)[['location_id','partner_id','product_id']]\n",
    "    return f1\n",
    "\n",
    "def read_in(path):\n",
    "    files = os.listdir(path)\n",
    "    all_dfs = []\n",
    "    #print(files)\n",
    "    for i in files:\n",
    "        each_df = read_stata_to_dataframe(path+i)\n",
    "        all_dfs.append(each_df)         \n",
    "    return all_dfs\n",
    "\n",
    "#all_dfs: a list of dataframes for each years\n",
    "#full_dfs: a merged dataframe of all_dfs\n",
    "all_dfs = read_in('C:/Users/luoyu/Desktop/USCISI/ATLAS/International Trade Data (HS,92) 4-digits/')\n",
    "for i in range(len(all_dfs)):\n",
    "    all_dfs[i]['year'] = 1995+i\n",
    "full_df = pd.concat(all_dfs, ignore_index=True)"
   ]
  },
  {
   "cell_type": "code",
   "execution_count": 8,
   "metadata": {},
   "outputs": [],
   "source": [
    "#intersect to find consistent countries\n",
    "locations = pd.read_stata(r'C:\\Users\\luoyu\\Desktop\\USCISI\\ATLAS\\locations.dta')\n",
    "all_sets = []\n",
    "for df in all_dfs:\n",
    "    country_set = set(df.location_id)\n",
    "    all_sets.append(country_set)\n",
    "intersect_countries = set.intersection(*all_sets)\n",
    "\n",
    "for df in all_dfs:\n",
    "    country_set = set(df.partner_id)\n",
    "    all_sets.append(country_set)\n",
    "intersect_countries_partner = set.intersection(*all_sets)\n",
    "\n",
    "#find inconsistent countries to exclude from country list\n",
    "all_locations = range(1,250)\n",
    "excluded_location_ix = [i for i in all_locations if i not in list(intersect_countries)]\n",
    "excluded_location = locations.iloc[excluded_location_ix]"
   ]
  },
  {
   "cell_type": "code",
   "execution_count": 377,
   "metadata": {},
   "outputs": [],
   "source": [
    "#filtered out inconsistent countries\n",
    "filtered_df = full_df[full_df['location_id'].isin(list(intersect_countries))]\n",
    "filtered_df = filtered_df[filtered_df['partner_id'].isin(list(intersect_countries_partner))]"
   ]
  },
  {
   "cell_type": "code",
   "execution_count": 46,
   "metadata": {},
   "outputs": [],
   "source": [
    "#backup filtered data\n",
    "filtered_df.to_stata('HS_countries_filtered.dta')"
   ]
  },
  {
   "cell_type": "code",
   "execution_count": 2,
   "metadata": {},
   "outputs": [],
   "source": [
    "filtered_df = pd.read_stata(r'C:\\Users\\luoyu\\Desktop\\USCISI\\ATLAS\\HS_countries_filtered.dta')"
   ]
  },
  {
   "cell_type": "markdown",
   "metadata": {},
   "source": [
    "# construct graph"
   ]
  },
  {
   "cell_type": "code",
   "execution_count": 76,
   "metadata": {
    "code_folding": []
   },
   "outputs": [],
   "source": [
    "# construct graphs\n",
    "##construct graph given the product_ids and year\n",
    "###product: dataframe of input product of all years\n",
    "###year: a certain year\n",
    "###G: the union graph for all products in list\n",
    "def construct_graph(product, year):\n",
    "    #select product trade info of certain year\n",
    "    year_product = product[product['year']==year][['location_id','partner_id']]\n",
    "    G = nx.from_pandas_edgelist(year_product,'location_id','partner_id').to_undirected()\n",
    "    return G\n",
    "\n",
    "##get the graph statistics\n",
    "###specific details of each function used can be found networkx documentation\n",
    "def get_graph_stats(G):\n",
    "    num_nodes = G.number_of_nodes()\n",
    "    G_deg = nx.degree_histogram(G)\n",
    "    G_deg_sum = [a * b for a, b in zip(G_deg, range(0, len(G_deg)))]\n",
    "    ave_degree = sum(G_deg_sum) / G.number_of_nodes()\n",
    "    avg_coe = nx.average_clustering(G)\n",
    "    triangles = nx.triangles(G)\n",
    "    density = nx.density(G)\n",
    "    total_triangles = sum(triangles.values())\n",
    "    diameter = nx.diameter(G)\n",
    "    #print(ave_degree)\n",
    "    return num_nodes, ave_degree, avg_coe,density,total_triangles,diameter\n",
    "\n",
    "##get graph statistics for all years\n",
    "###product_id: a list of product_ids\n",
    "def construct_graph_all_years(product_id):\n",
    "    #select product trades from filtered_df based on the list of product_id\n",
    "    product = filtered_df[filtered_df['product_id'].isin(product_id)]\n",
    "    product = product.drop_duplicates(subset=['location_id', 'partner_id','year'], keep='last')\n",
    "    num_nodes_list, ave_degree_list,avg_coe_list,density_list,total_triangles_list,diameter_list = [],[],[],[],[],[]\n",
    "    #loop through years to append graph statistics to each stats list \n",
    "    for i in years:\n",
    "        G = construct_graph(product,i)\n",
    "        num_nodes, ave_degree,avg_coe,density,total_triangles,diameter = get_graph_stats(G)\n",
    "        num_nodes_list.append(num_nodes)\n",
    "        ave_degree_list.append(ave_degree)\n",
    "        avg_coe_list.append(avg_coe)\n",
    "        density_list.append(density)\n",
    "        total_triangles_list.append(total_triangles)\n",
    "        diameter_list.append(diameter)\n",
    "        #print(ave_degree_list)\n",
    "    return [num_nodes_list, ave_degree_list,avg_coe_list,density_list,total_triangles_list,diameter_list]\n",
    "\n",
    "##plot a list of plot for 'Average Degree','Average Coefficient','Density','Total Number of Triangles' given the product_ids and year\n",
    "def plotgraph(graph_stats_list,product_id,product_name):\n",
    "    fig = plt.figure(figsize=(4,20))\n",
    "    #fig.suptitle('Graph Attributes for Section ' + product_name + ' (Number of 4-digit products: ' + str(len(product_id)) +')', fontsize=20)\n",
    "    a,b,c=4,1,1\n",
    "    for graph_stats,stats_type in zip(graph_stats_list[1:5],stats_type_list[1:5]):\n",
    "        plt.subplot(a, b, c)\n",
    "        plt.plot(years,graph_stats)\n",
    "        #plt.title(stats_type + ' by Year for ' + product_name, fontsize=10)\n",
    "        plt.title(product_name, fontsize=10)\n",
    "        plt.xlabel('years', fontsize=10)\n",
    "        plt.ylabel(stats_type, fontsize=10)\n",
    "        c=c+1\n",
    "    plt.show()"
   ]
  },
  {
   "cell_type": "code",
   "execution_count": 4,
   "metadata": {
    "code_folding": []
   },
   "outputs": [],
   "source": [
    "#for ploting a single graph of one graph statitics, only used for debug and testing\n",
    "def plotgraph(graph_stats_list,product_id,product_name):\n",
    "    fig = plt.figure(figsize=(4,4))\n",
    "    #fig.suptitle('Graph Attributes for Section ' + product_name + ' (Number of 4-digit products: ' + str(len(product_id)) +')', fontsize=20)\n",
    "    a,b,c=1,1,1\n",
    "    #print(graph_stats)\n",
    "    plt.subplot(a, b, c)\n",
    "    plt.plot(years,graph_stats_list[0])\n",
    "\n",
    "    plt.title(product_name, fontsize=10)\n",
    "    plt.xlabel('years', fontsize=10)\n",
    "    plt.ylabel(stats_type_list[0], fontsize=10)\n",
    "\n",
    "    plt.show()"
   ]
  },
  {
   "cell_type": "code",
   "execution_count": 46,
   "metadata": {},
   "outputs": [],
   "source": [
    "#years and graph statistics' names\n",
    "years = range(1995,2018)\n",
    "stats_type_list = ['Number of Countries','Average Degree','Average Coefficient','Density','Total Number of Triangles','Diameter']"
   ]
  },
  {
   "cell_type": "markdown",
   "metadata": {},
   "source": [
    "# Product hierarchical relations join and sampling"
   ]
  },
  {
   "cell_type": "code",
   "execution_count": 77,
   "metadata": {},
   "outputs": [],
   "source": [
    "#group by product_id and generate frequency for each product\n",
    "prudcut_edge_count = filtered_df.groupby(['product_id']).size().reset_index(name='counts').sort_values(by='counts')\n",
    "sample_product = prudcut_edge_count"
   ]
  },
  {
   "cell_type": "code",
   "execution_count": 78,
   "metadata": {},
   "outputs": [],
   "source": [
    "#load meta description file from hs_product.dta\n",
    "product_info = pd.read_stata(r'C:\\Users\\luoyu\\Desktop\\USCISI\\ATLAS\\Classifications Data\\hs_product.dta')\n",
    "#get 2-digit level names and hierarchical relations\n",
    "product_2digit = product_info[product_info['level']=='2digit'][['product_id','hs_product_name_short_en','parent_id']].rename(columns={\"hs_product_name_short_en\": \"2digit_name\", \"parent_id\": \"2digit_parent_id\"})\n",
    "#get section names and hierarchical relations\n",
    "product_section = product_info[product_info['level']=='section'][['product_id','hs_product_name_short_en']].rename(columns={\"hs_product_name_short_en\": \"section_name\"})"
   ]
  },
  {
   "cell_type": "code",
   "execution_count": 79,
   "metadata": {},
   "outputs": [],
   "source": [
    "#join to link hierarchical relations from section to 2-digit to 4-digit level\n",
    "sample_product_info = sample_product.set_index('product_id').join(product_info.set_index('product_id')).reset_index()\n",
    "sample_product_info = sample_product_info.set_index('parent_id').join(product_2digit.set_index('product_id')).reset_index()\n",
    "sample_product_info = sample_product_info.set_index('2digit_parent_id').join(product_section.set_index('product_id')).reset_index()\n",
    "sample_product_info = sample_product_info.rename(columns={\"level_0\": \"product_id_section\",\"index\": \"product_id_2digit\"}) "
   ]
  },
  {
   "cell_type": "code",
   "execution_count": 71,
   "metadata": {},
   "outputs": [
    {
     "data": {
      "text/html": [
       "<div>\n",
       "<style scoped>\n",
       "    .dataframe tbody tr th:only-of-type {\n",
       "        vertical-align: middle;\n",
       "    }\n",
       "\n",
       "    .dataframe tbody tr th {\n",
       "        vertical-align: top;\n",
       "    }\n",
       "\n",
       "    .dataframe thead th {\n",
       "        text-align: right;\n",
       "    }\n",
       "</style>\n",
       "<table border=\"1\" class=\"dataframe\">\n",
       "  <thead>\n",
       "    <tr style=\"text-align: right;\">\n",
       "      <th></th>\n",
       "      <th>product_id_section</th>\n",
       "      <th>product_id_2digit</th>\n",
       "      <th>product_id</th>\n",
       "      <th>counts</th>\n",
       "      <th>hs_product_code</th>\n",
       "      <th>hs_product_name_short_en</th>\n",
       "      <th>level</th>\n",
       "      <th>2digit_name</th>\n",
       "      <th>section_name</th>\n",
       "    </tr>\n",
       "  </thead>\n",
       "  <tbody>\n",
       "    <tr>\n",
       "      <th>0</th>\n",
       "      <td>0.0</td>\n",
       "      <td>149.0</td>\n",
       "      <td>1226</td>\n",
       "      <td>4786</td>\n",
       "      <td>5001</td>\n",
       "      <td>Silkworm cocoons</td>\n",
       "      <td>4digit</td>\n",
       "      <td>Silk</td>\n",
       "      <td>Textiles</td>\n",
       "    </tr>\n",
       "    <tr>\n",
       "      <th>1</th>\n",
       "      <td>0.0</td>\n",
       "      <td>149.0</td>\n",
       "      <td>1228</td>\n",
       "      <td>9920</td>\n",
       "      <td>5003</td>\n",
       "      <td>Silk waste</td>\n",
       "      <td>4digit</td>\n",
       "      <td>Silk</td>\n",
       "      <td>Textiles</td>\n",
       "    </tr>\n",
       "    <tr>\n",
       "      <th>2</th>\n",
       "      <td>0.0</td>\n",
       "      <td>149.0</td>\n",
       "      <td>1227</td>\n",
       "      <td>9934</td>\n",
       "      <td>5002</td>\n",
       "      <td>Raw silk</td>\n",
       "      <td>4digit</td>\n",
       "      <td>Silk</td>\n",
       "      <td>Textiles</td>\n",
       "    </tr>\n",
       "    <tr>\n",
       "      <th>3</th>\n",
       "      <td>0.0</td>\n",
       "      <td>149.0</td>\n",
       "      <td>1230</td>\n",
       "      <td>11456</td>\n",
       "      <td>5005</td>\n",
       "      <td>Yarn from silk waste</td>\n",
       "      <td>4digit</td>\n",
       "      <td>Silk</td>\n",
       "      <td>Textiles</td>\n",
       "    </tr>\n",
       "    <tr>\n",
       "      <th>4</th>\n",
       "      <td>0.0</td>\n",
       "      <td>149.0</td>\n",
       "      <td>1231</td>\n",
       "      <td>16018</td>\n",
       "      <td>5006</td>\n",
       "      <td>Silk yarn, for retail sale</td>\n",
       "      <td>4digit</td>\n",
       "      <td>Silk</td>\n",
       "      <td>Textiles</td>\n",
       "    </tr>\n",
       "    <tr>\n",
       "      <th>...</th>\n",
       "      <td>...</td>\n",
       "      <td>...</td>\n",
       "      <td>...</td>\n",
       "      <td>...</td>\n",
       "      <td>...</td>\n",
       "      <td>...</td>\n",
       "      <td>...</td>\n",
       "      <td>...</td>\n",
       "      <td>...</td>\n",
       "    </tr>\n",
       "    <tr>\n",
       "      <th>1238</th>\n",
       "      <td>8.0</td>\n",
       "      <td>183.0</td>\n",
       "      <td>1720</td>\n",
       "      <td>259416</td>\n",
       "      <td>8517</td>\n",
       "      <td>Telephones</td>\n",
       "      <td>4digit</td>\n",
       "      <td>Electrical machinery and equipment</td>\n",
       "      <td>Electronics</td>\n",
       "    </tr>\n",
       "    <tr>\n",
       "      <th>1239</th>\n",
       "      <td>8.0</td>\n",
       "      <td>183.0</td>\n",
       "      <td>1707</td>\n",
       "      <td>263070</td>\n",
       "      <td>8504</td>\n",
       "      <td>Electrical transformers</td>\n",
       "      <td>4digit</td>\n",
       "      <td>Electrical machinery and equipment</td>\n",
       "      <td>Electronics</td>\n",
       "    </tr>\n",
       "    <tr>\n",
       "      <th>1240</th>\n",
       "      <td>8.0</td>\n",
       "      <td>183.0</td>\n",
       "      <td>1739</td>\n",
       "      <td>273796</td>\n",
       "      <td>8536</td>\n",
       "      <td>Electrical apparatus for &lt; 1k volts</td>\n",
       "      <td>4digit</td>\n",
       "      <td>Electrical machinery and equipment</td>\n",
       "      <td>Electronics</td>\n",
       "    </tr>\n",
       "    <tr>\n",
       "      <th>1241</th>\n",
       "      <td>9.0</td>\n",
       "      <td>196.0</td>\n",
       "      <td>1892</td>\n",
       "      <td>864</td>\n",
       "      <td>XXXX</td>\n",
       "      <td>Trade data discrepancies</td>\n",
       "      <td>4digit</td>\n",
       "      <td>Other</td>\n",
       "      <td>Other</td>\n",
       "    </tr>\n",
       "    <tr>\n",
       "      <th>1242</th>\n",
       "      <td>9.0</td>\n",
       "      <td>196.0</td>\n",
       "      <td>1891</td>\n",
       "      <td>243916</td>\n",
       "      <td>9999</td>\n",
       "      <td>Commodities not specified according to kind</td>\n",
       "      <td>4digit</td>\n",
       "      <td>Other</td>\n",
       "      <td>Other</td>\n",
       "    </tr>\n",
       "  </tbody>\n",
       "</table>\n",
       "<p>1243 rows × 9 columns</p>\n",
       "</div>"
      ],
      "text/plain": [
       "      product_id_section  product_id_2digit  product_id  counts  \\\n",
       "0                    0.0              149.0        1226    4786   \n",
       "1                    0.0              149.0        1228    9920   \n",
       "2                    0.0              149.0        1227    9934   \n",
       "3                    0.0              149.0        1230   11456   \n",
       "4                    0.0              149.0        1231   16018   \n",
       "...                  ...                ...         ...     ...   \n",
       "1238                 8.0              183.0        1720  259416   \n",
       "1239                 8.0              183.0        1707  263070   \n",
       "1240                 8.0              183.0        1739  273796   \n",
       "1241                 9.0              196.0        1892     864   \n",
       "1242                 9.0              196.0        1891  243916   \n",
       "\n",
       "     hs_product_code                     hs_product_name_short_en   level  \\\n",
       "0               5001                             Silkworm cocoons  4digit   \n",
       "1               5003                                   Silk waste  4digit   \n",
       "2               5002                                     Raw silk  4digit   \n",
       "3               5005                         Yarn from silk waste  4digit   \n",
       "4               5006                   Silk yarn, for retail sale  4digit   \n",
       "...              ...                                          ...     ...   \n",
       "1238            8517                                   Telephones  4digit   \n",
       "1239            8504                      Electrical transformers  4digit   \n",
       "1240            8536          Electrical apparatus for < 1k volts  4digit   \n",
       "1241            XXXX                     Trade data discrepancies  4digit   \n",
       "1242            9999  Commodities not specified according to kind  4digit   \n",
       "\n",
       "                             2digit_name section_name  \n",
       "0                                   Silk     Textiles  \n",
       "1                                   Silk     Textiles  \n",
       "2                                   Silk     Textiles  \n",
       "3                                   Silk     Textiles  \n",
       "4                                   Silk     Textiles  \n",
       "...                                  ...          ...  \n",
       "1238  Electrical machinery and equipment  Electronics  \n",
       "1239  Electrical machinery and equipment  Electronics  \n",
       "1240  Electrical machinery and equipment  Electronics  \n",
       "1241                               Other        Other  \n",
       "1242                               Other        Other  \n",
       "\n",
       "[1243 rows x 9 columns]"
      ]
     },
     "execution_count": 71,
     "metadata": {},
     "output_type": "execute_result"
    }
   ],
   "source": [
    "sample_product_info"
   ]
  },
  {
   "cell_type": "code",
   "execution_count": 80,
   "metadata": {},
   "outputs": [],
   "source": [
    "section_name_list = list(product_section['section_name'])"
   ]
  },
  {
   "cell_type": "code",
   "execution_count": 81,
   "metadata": {},
   "outputs": [],
   "source": [
    "#select a specific section based on section id\n",
    "sample_product_info_section = sample_product_info[sample_product_info['product_id_section']==1]"
   ]
  },
  {
   "cell_type": "markdown",
   "metadata": {},
   "source": [
    "## Figure 1-4"
   ]
  },
  {
   "cell_type": "code",
   "execution_count": 82,
   "metadata": {},
   "outputs": [
    {
     "data": {
      "image/png": "[encoded data removed]",
      "text/plain": [
       "<Figure size 288x1440 with 4 Axes>"
      ]
     },
     "metadata": {
      "needs_background": "light"
     },
     "output_type": "display_data"
    }
   ],
   "source": [
    "#compute graph stats for a single set of union products\n",
    "sample_product_info_section = sample_product_info[sample_product_info['product_id_section']==8] #edit section id\n",
    "product_id_list = list(sample_product_info_section['product_id'])\n",
    "graph_stats_list = construct_graph_all_years(product_id_list)\n",
    "plotgraph(graph_stats_list, product_id_list,'Electronics') ##edit section name\n"
   ]
  },
  {
   "cell_type": "markdown",
   "metadata": {},
   "source": [
    "## Figure 7: Degree distributions "
   ]
  },
  {
   "cell_type": "code",
   "execution_count": null,
   "metadata": {},
   "outputs": [],
   "source": [
    "sample_product_info_section = sample_product_info[sample_product_info['product_id_section']==1]#edit section id"
   ]
  },
  {
   "cell_type": "code",
   "execution_count": 72,
   "metadata": {},
   "outputs": [
    {
     "data": {
      "image/png": "[encoded data removed]",
      "text/plain": [
       "<Figure size 432x288 with 1 Axes>"
      ]
     },
     "metadata": {
      "needs_background": "light"
     },
     "output_type": "display_data"
    }
   ],
   "source": [
    "#For ploting degree distribution\n",
    "###product_id: a list of product_ids\n",
    "###deg: unziped pair of number of degree\n",
    "###cnt: unziped pair of degree frequency\n",
    "def degreeDist(product_id, year):\n",
    "    product = filtered_df[filtered_df['product_id'].isin(product_id)]\n",
    "    product = product.drop_duplicates(subset=['location_id', 'partner_id','year'], keep='last')\n",
    "    G = construct_graph(product,year)\n",
    "    degree_sequence = sorted([d for n, d in G.degree()], reverse=True)  # degree sequence\n",
    "    degreeCount = collections.Counter(degree_sequence)\n",
    "    deg, cnt = zip(*degreeCount.items())\n",
    "\n",
    "    return deg,cnt\n",
    "\n",
    "#plot degree distribution\n",
    "product_id_list = list(sample_product_info_section['product_id'])\n",
    "deg,cnt = degreeDist(product_id_list, 1998) ##edit year\n",
    "plt.bar(deg, cnt, 5)\n",
    "plt.title('Electronics 1998', fontsize=10) ##edit section name and year\n",
    "plt.xlabel('degree', fontsize=10)\n",
    "plt.ylabel('frequency', fontsize=10)\n",
    "plt.ylim([0, 7])\n",
    "plt.show()"
   ]
  },
  {
   "cell_type": "markdown",
   "metadata": {},
   "source": [
    "## Table 2: Diameter statistic "
   ]
  },
  {
   "cell_type": "code",
   "execution_count": null,
   "metadata": {},
   "outputs": [],
   "source": [
    "for i in range(9):\n",
    "    sample_product_info_section = sample_product_info[sample_product_info['product_id_section']==i]\n",
    "    product_id_list = list(sample_product_info_section['product_id'])\n",
    "    graph_stats_list = construct_graph_all_years(product_id_list)\n",
    "    diameter_list = graph_stats_list[5]\n",
    "    print(diameter_list)\n",
    "    mean = sum(diameter_list)/len(diameter_list)\n",
    "    variance = sum([((x - mean) ** 2) for x in diameter_list]) / len(diameter_list)\n",
    "    res = variance ** 0.5\n",
    "    print(section_name_list[i], mean, res, min(diameter_list), max(diameter_list))\n",
    "    #plotgraph(graph_stats_list, product_id_list,section_name_list[i])"
   ]
  },
  {
   "cell_type": "markdown",
   "metadata": {},
   "source": [
    "## Table 3:Correlation"
   ]
  },
  {
   "cell_type": "code",
   "execution_count": 292,
   "metadata": {},
   "outputs": [],
   "source": [
    "gdp = pd.read_csv(r'C:\\Users\\luoyu\\Desktop\\USCISI\\ATLAS\\gross-domestic-product.csv')"
   ]
  },
  {
   "cell_type": "code",
   "execution_count": 317,
   "metadata": {},
   "outputs": [
    {
     "data": {
      "text/plain": [
       "Text(0, 0.5, 'GDP (USD)')"
      ]
     },
     "execution_count": 317,
     "metadata": {},
     "output_type": "execute_result"
    },
    {
     "data": {
      "image/png": "[encoded data removed]",
      "text/plain": [
       "<Figure size 432x288 with 1 Axes>"
      ]
     },
     "metadata": {
      "needs_background": "light"
     },
     "output_type": "display_data"
    }
   ],
   "source": [
    "#load gdp for comparision\n",
    "gdp_by_year = gdp.groupby(by='Year').sum()\n",
    "gdp_by_year = gdp_by_year[gdp_by_year.index >= 1990 ]\n",
    "gdp_by_year = gdp_by_year[5:28]\n",
    "plt.plot(gdp_by_year)\n",
    "plt.title('GDP by Year',fontsize=16)\n",
    "plt.xlabel('years', fontsize=16)\n",
    "plt.ylabel('GDP (USD)', fontsize=16)\n"
   ]
  },
  {
   "cell_type": "code",
   "execution_count": 304,
   "metadata": {},
   "outputs": [],
   "source": [
    "num_nodes_list, ave_degree_list,avg_coe_list,density_list,total_triangles_list,diameter_list = construct_graph_all_years(list(sample_product_info_section['product_id']))"
   ]
  },
  {
   "cell_type": "code",
   "execution_count": 402,
   "metadata": {
    "code_folding": []
   },
   "outputs": [
    {
     "name": "stdout",
     "output_type": "stream",
     "text": [
      "0                          GDP (constant 2010 US$)  ave_degree  density  \\\n",
      "GDP (constant 2010 US$)                      1.0       0.918    0.917   \n",
      "\n",
      "                         total_triangles  diameter  avg_coe  num_nodes  \n",
      "GDP (constant 2010 US$)            0.945       NaN    0.607      0.376  \n",
      "1                          GDP (constant 2010 US$)  ave_degree  density  \\\n",
      "GDP (constant 2010 US$)                      1.0       0.938    0.937   \n",
      "\n",
      "                         total_triangles  diameter  avg_coe  num_nodes  \n",
      "GDP (constant 2010 US$)             0.96    -0.114    0.888      0.113  \n",
      "2                          GDP (constant 2010 US$)  ave_degree  density  \\\n",
      "GDP (constant 2010 US$)                      1.0       0.925    0.925   \n",
      "\n",
      "                         total_triangles  diameter  avg_coe  num_nodes  \n",
      "GDP (constant 2010 US$)            0.946       NaN   -0.147      0.217  \n",
      "3                          GDP (constant 2010 US$)  ave_degree  density  \\\n",
      "GDP (constant 2010 US$)                      1.0        0.94    0.941   \n",
      "\n",
      "                         total_triangles  diameter  avg_coe  num_nodes  \n",
      "GDP (constant 2010 US$)            0.962     0.188    0.595      0.111  \n",
      "4                          GDP (constant 2010 US$)  ave_degree  density  \\\n",
      "GDP (constant 2010 US$)                      1.0       0.914    0.914   \n",
      "\n",
      "                         total_triangles  diameter  avg_coe  num_nodes  \n",
      "GDP (constant 2010 US$)            0.936       NaN   -0.208      0.347  \n"
     ]
    }
   ],
   "source": [
    "#calculate correlation\n",
    "for i in range(5):\n",
    "    i+5\n",
    "    sample_product_info_section = sample_product_info[sample_product_info['product_id_section']==i]\n",
    "    num_nodes_list, ave_degree_list,avg_coe_list,density_list,total_triangles_list,diameter_list = construct_graph_all_years(list(sample_product_info_section['product_id']))\n",
    "    gdp_by_year['ave_degree']=ave_degree_list\n",
    "    gdp_by_year['density'] = density_list\n",
    "    gdp_by_year['total_triangles'] = total_triangles_list\n",
    "    gdp_by_year['diameter'] = diameter_list\n",
    "    gdp_by_year['avg_coe'] = avg_coe_list\n",
    "    gdp_by_year['num_nodes'] = num_nodes_list\n",
    "    print(i, gdp_by_year.corr(method='pearson').round(decimals=3).head(1))"
   ]
  },
  {
   "cell_type": "code",
   "execution_count": 399,
   "metadata": {},
   "outputs": [
    {
     "name": "stdout",
     "output_type": "stream",
     "text": [
      "                         GDP (constant 2010 US$)  ave_degree  density  \\\n",
      "GDP (constant 2010 US$)                      1.0       0.934    0.936   \n",
      "\n",
      "                         total_triangles  diameter  avg_coe  num_nodes  \n",
      "GDP (constant 2010 US$)            0.956    -0.321   -0.156      0.439  \n"
     ]
    }
   ],
   "source": [
    "print(gdp_by_year.corr(method='pearson').round(decimals=3).head(1))"
   ]
  },
  {
   "cell_type": "code",
   "execution_count": 334,
   "metadata": {
    "collapsed": true
   },
   "outputs": [
    {
     "data": {
      "text/html": [
       "<div>\n",
       "<style scoped>\n",
       "    .dataframe tbody tr th:only-of-type {\n",
       "        vertical-align: middle;\n",
       "    }\n",
       "\n",
       "    .dataframe tbody tr th {\n",
       "        vertical-align: top;\n",
       "    }\n",
       "\n",
       "    .dataframe thead th {\n",
       "        text-align: right;\n",
       "    }\n",
       "</style>\n",
       "<table border=\"1\" class=\"dataframe\">\n",
       "  <thead>\n",
       "    <tr style=\"text-align: right;\">\n",
       "      <th></th>\n",
       "      <th>GDP (constant 2010 US$)</th>\n",
       "      <th>ave_degree</th>\n",
       "      <th>density</th>\n",
       "      <th>total_triangles</th>\n",
       "    </tr>\n",
       "    <tr>\n",
       "      <th>Year</th>\n",
       "      <th></th>\n",
       "      <th></th>\n",
       "      <th></th>\n",
       "      <th></th>\n",
       "    </tr>\n",
       "  </thead>\n",
       "  <tbody>\n",
       "    <tr>\n",
       "      <th>1995</th>\n",
       "      <td>3.250616e+14</td>\n",
       "      <td>42.622010</td>\n",
       "      <td>0.204914</td>\n",
       "      <td>183177</td>\n",
       "    </tr>\n",
       "    <tr>\n",
       "      <th>1996</th>\n",
       "      <td>3.364843e+14</td>\n",
       "      <td>44.961905</td>\n",
       "      <td>0.215129</td>\n",
       "      <td>203139</td>\n",
       "    </tr>\n",
       "    <tr>\n",
       "      <th>1997</th>\n",
       "      <td>3.495362e+14</td>\n",
       "      <td>48.579710</td>\n",
       "      <td>0.235824</td>\n",
       "      <td>228033</td>\n",
       "    </tr>\n",
       "    <tr>\n",
       "      <th>1998</th>\n",
       "      <td>3.582834e+14</td>\n",
       "      <td>48.609524</td>\n",
       "      <td>0.232581</td>\n",
       "      <td>234366</td>\n",
       "    </tr>\n",
       "    <tr>\n",
       "      <th>1999</th>\n",
       "      <td>3.698439e+14</td>\n",
       "      <td>50.191388</td>\n",
       "      <td>0.241305</td>\n",
       "      <td>247038</td>\n",
       "    </tr>\n",
       "    <tr>\n",
       "      <th>2000</th>\n",
       "      <td>3.868146e+14</td>\n",
       "      <td>51.107981</td>\n",
       "      <td>0.241075</td>\n",
       "      <td>261651</td>\n",
       "    </tr>\n",
       "    <tr>\n",
       "      <th>2001</th>\n",
       "      <td>3.952085e+14</td>\n",
       "      <td>52.909953</td>\n",
       "      <td>0.251952</td>\n",
       "      <td>274230</td>\n",
       "    </tr>\n",
       "    <tr>\n",
       "      <th>2002</th>\n",
       "      <td>4.047911e+14</td>\n",
       "      <td>53.801887</td>\n",
       "      <td>0.254985</td>\n",
       "      <td>284616</td>\n",
       "    </tr>\n",
       "    <tr>\n",
       "      <th>2003</th>\n",
       "      <td>4.175500e+14</td>\n",
       "      <td>56.009390</td>\n",
       "      <td>0.264195</td>\n",
       "      <td>308490</td>\n",
       "    </tr>\n",
       "    <tr>\n",
       "      <th>2004</th>\n",
       "      <td>4.380665e+14</td>\n",
       "      <td>56.377358</td>\n",
       "      <td>0.267191</td>\n",
       "      <td>311106</td>\n",
       "    </tr>\n",
       "    <tr>\n",
       "      <th>2005</th>\n",
       "      <td>4.565631e+14</td>\n",
       "      <td>58.886792</td>\n",
       "      <td>0.279084</td>\n",
       "      <td>336441</td>\n",
       "    </tr>\n",
       "    <tr>\n",
       "      <th>2006</th>\n",
       "      <td>4.788237e+14</td>\n",
       "      <td>59.774648</td>\n",
       "      <td>0.281956</td>\n",
       "      <td>355323</td>\n",
       "    </tr>\n",
       "    <tr>\n",
       "      <th>2007</th>\n",
       "      <td>5.023334e+14</td>\n",
       "      <td>61.113208</td>\n",
       "      <td>0.289636</td>\n",
       "      <td>364299</td>\n",
       "    </tr>\n",
       "    <tr>\n",
       "      <th>2008</th>\n",
       "      <td>5.146582e+14</td>\n",
       "      <td>62.066351</td>\n",
       "      <td>0.295554</td>\n",
       "      <td>372816</td>\n",
       "    </tr>\n",
       "    <tr>\n",
       "      <th>2009</th>\n",
       "      <td>5.088274e+14</td>\n",
       "      <td>61.342723</td>\n",
       "      <td>0.289352</td>\n",
       "      <td>373800</td>\n",
       "    </tr>\n",
       "    <tr>\n",
       "      <th>2010</th>\n",
       "      <td>5.330132e+14</td>\n",
       "      <td>63.772512</td>\n",
       "      <td>0.303679</td>\n",
       "      <td>396609</td>\n",
       "    </tr>\n",
       "    <tr>\n",
       "      <th>2011</th>\n",
       "      <td>5.524719e+14</td>\n",
       "      <td>63.443396</td>\n",
       "      <td>0.300680</td>\n",
       "      <td>397404</td>\n",
       "    </tr>\n",
       "    <tr>\n",
       "      <th>2012</th>\n",
       "      <td>5.684442e+14</td>\n",
       "      <td>63.396226</td>\n",
       "      <td>0.300456</td>\n",
       "      <td>391767</td>\n",
       "    </tr>\n",
       "    <tr>\n",
       "      <th>2013</th>\n",
       "      <td>5.854506e+14</td>\n",
       "      <td>64.549763</td>\n",
       "      <td>0.307380</td>\n",
       "      <td>406863</td>\n",
       "    </tr>\n",
       "    <tr>\n",
       "      <th>2014</th>\n",
       "      <td>6.036998e+14</td>\n",
       "      <td>64.447619</td>\n",
       "      <td>0.308362</td>\n",
       "      <td>402393</td>\n",
       "    </tr>\n",
       "    <tr>\n",
       "      <th>2015</th>\n",
       "      <td>6.215847e+14</td>\n",
       "      <td>63.361502</td>\n",
       "      <td>0.298875</td>\n",
       "      <td>398967</td>\n",
       "    </tr>\n",
       "    <tr>\n",
       "      <th>2016</th>\n",
       "      <td>6.389454e+14</td>\n",
       "      <td>64.018779</td>\n",
       "      <td>0.301975</td>\n",
       "      <td>411696</td>\n",
       "    </tr>\n",
       "    <tr>\n",
       "      <th>2017</th>\n",
       "      <td>6.610929e+14</td>\n",
       "      <td>64.236967</td>\n",
       "      <td>0.305890</td>\n",
       "      <td>412035</td>\n",
       "    </tr>\n",
       "  </tbody>\n",
       "</table>\n",
       "</div>"
      ],
      "text/plain": [
       "      GDP (constant 2010 US$)  ave_degree   density  total_triangles\n",
       "Year                                                                \n",
       "1995             3.250616e+14   42.622010  0.204914           183177\n",
       "1996             3.364843e+14   44.961905  0.215129           203139\n",
       "1997             3.495362e+14   48.579710  0.235824           228033\n",
       "1998             3.582834e+14   48.609524  0.232581           234366\n",
       "1999             3.698439e+14   50.191388  0.241305           247038\n",
       "2000             3.868146e+14   51.107981  0.241075           261651\n",
       "2001             3.952085e+14   52.909953  0.251952           274230\n",
       "2002             4.047911e+14   53.801887  0.254985           284616\n",
       "2003             4.175500e+14   56.009390  0.264195           308490\n",
       "2004             4.380665e+14   56.377358  0.267191           311106\n",
       "2005             4.565631e+14   58.886792  0.279084           336441\n",
       "2006             4.788237e+14   59.774648  0.281956           355323\n",
       "2007             5.023334e+14   61.113208  0.289636           364299\n",
       "2008             5.146582e+14   62.066351  0.295554           372816\n",
       "2009             5.088274e+14   61.342723  0.289352           373800\n",
       "2010             5.330132e+14   63.772512  0.303679           396609\n",
       "2011             5.524719e+14   63.443396  0.300680           397404\n",
       "2012             5.684442e+14   63.396226  0.300456           391767\n",
       "2013             5.854506e+14   64.549763  0.307380           406863\n",
       "2014             6.036998e+14   64.447619  0.308362           402393\n",
       "2015             6.215847e+14   63.361502  0.298875           398967\n",
       "2016             6.389454e+14   64.018779  0.301975           411696\n",
       "2017             6.610929e+14   64.236967  0.305890           412035"
      ]
     },
     "execution_count": 334,
     "metadata": {},
     "output_type": "execute_result"
    }
   ],
   "source": [
    "gdp_by_year"
   ]
  }
 ],
 "metadata": {
  "kernelspec": {
   "display_name": "Python 3",
   "language": "python",
   "name": "python3"
  },
  "language_info": {
   "codemirror_mode": {
    "name": "ipython",
    "version": 3
   },
   "file_extension": ".py",
   "mimetype": "text/x-python",
   "name": "python",
   "nbconvert_exporter": "python",
   "pygments_lexer": "ipython3",
   "version": "3.8.3"
  }
 },
 "nbformat": 4,
 "nbformat_minor": 4
}
